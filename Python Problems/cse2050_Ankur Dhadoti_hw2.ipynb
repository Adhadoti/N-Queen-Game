{
 "cells": [
  {
   "cell_type": "markdown",
   "id": "6aeb09fc",
   "metadata": {},
   "source": [
    "# Homework 2\n",
    "\n",
    "#### CSE 2050 Ankur Dhadoti"
   ]
  },
  {
   "cell_type": "code",
   "execution_count": 2,
   "id": "76865572",
   "metadata": {},
   "outputs": [
    {
     "name": "stdout",
     "output_type": "stream",
     "text": [
      "Collecting dateparser\n",
      "  Downloading dateparser-1.0.0-py2.py3-none-any.whl (279 kB)\n",
      "\u001b[K     |████████████████████████████████| 279 kB 2.6 MB/s eta 0:00:01\n",
      "\u001b[?25hRequirement already satisfied: python-dateutil in /Users/ankurdhadoti/opt/anaconda3/lib/python3.8/site-packages (from dateparser) (2.8.1)\n",
      "Requirement already satisfied: pytz in /Users/ankurdhadoti/opt/anaconda3/lib/python3.8/site-packages (from dateparser) (2021.1)\n",
      "Requirement already satisfied: regex!=2019.02.19 in /Users/ankurdhadoti/opt/anaconda3/lib/python3.8/site-packages (from dateparser) (2021.4.4)\n",
      "Collecting tzlocal\n",
      "  Downloading tzlocal-3.0-py3-none-any.whl (16 kB)\n",
      "Requirement already satisfied: six>=1.5 in /Users/ankurdhadoti/opt/anaconda3/lib/python3.8/site-packages (from python-dateutil->dateparser) (1.15.0)\n",
      "Collecting backports.zoneinfo\n",
      "  Downloading backports.zoneinfo-0.2.1-cp38-cp38-macosx_10_14_x86_64.whl (35 kB)\n",
      "Installing collected packages: backports.zoneinfo, tzlocal, dateparser\n",
      "Successfully installed backports.zoneinfo-0.2.1 dateparser-1.0.0 tzlocal-3.0\n"
     ]
    }
   ],
   "source": [
    "! pip install dateparser"
   ]
  },
  {
   "cell_type": "markdown",
   "id": "170836b3",
   "metadata": {},
   "source": [
    "### 1. Imagine that you are designing a scheduling app. It is of interest to check a list of appointments for any overlaps. Given any 1D list of time periods, write Python code that prints out all conflicting appointments."
   ]
  },
  {
   "cell_type": "code",
   "execution_count": 3,
   "id": "b69d521c",
   "metadata": {},
   "outputs": [
    {
     "name": "stdout",
     "output_type": "stream",
     "text": [
      "6:30am-7:00am overlaps with 6:00am-7:30am\n",
      "7:00pm-9:00pm overlaps with 8:00pm-8:30pm\n"
     ]
    }
   ],
   "source": [
    "from dateparser import parse\n",
    "\n",
    "time_periods = [\"6:30am-7:00am\", \"8:00am-9:00am\",\n",
    "  \"6:00am-7:30am\", \"7:00pm-9:00pm\", \"8:00pm-8:30pm\"]\n",
    "\n",
    "parsed_time = []\n",
    "\n",
    "for period in time_periods:\n",
    "    start, end = period.split(\"-\")\n",
    "    parsed_time.append([parse(start),parse(end)])\n",
    "    \n",
    "for i in range(len(parsed_time)):\n",
    "    for j in range(i+1,len(parsed_time)):\n",
    "        i_start, i_end = parsed_time[i]\n",
    "        j_start, j_end = parsed_time[j]\n",
    "        \n",
    "        if (i_start < j_start and j_start < i_end) or (j_start < i_start and i_start < j_end):\n",
    "            print(f\"{time_periods[i]} overlaps with {time_periods[j]}\")"
   ]
  },
  {
   "cell_type": "markdown",
   "id": "f783fb9f",
   "metadata": {},
   "source": [
    "### 2. Complete the function below that returns the \"centered\" average of a 1-D list of ints, which we’ll say is the mean average of the values, except ignoring the largest and smallest values in the list. If there are multiple copies of the smallest value, ignore just one copy, and likewise for the largest value. Use int division to produce the final average. You may assume that the list is length 3 or more."
   ]
  },
  {
   "cell_type": "code",
   "execution_count": 7,
   "id": "bbd3d6ba",
   "metadata": {},
   "outputs": [
    {
     "name": "stdout",
     "output_type": "stream",
     "text": [
      "3\n"
     ]
    }
   ],
   "source": [
    "def centered_averege (data: list):\n",
    "    max_num = data[0]\n",
    "    min_num = data[0]\n",
    "    avg = 0\n",
    "    for i in data:\n",
    "        avg += i\n",
    "        if(i<min_num):\n",
    "            min_num = i\n",
    "        if(i>max_num):\n",
    "            max_num = i\n",
    "    avg -= max_num\n",
    "    avg -= min_num\n",
    "    avg /= (len(data) - 2)\n",
    "    return avg\n",
    "\n",
    "\n",
    "\n",
    "centered_average2=[1, 2, 3, 4, 100]\n",
    "avg = centered_averege(centered_average2)\n",
    "print(int(avg))"
   ]
  },
  {
   "cell_type": "markdown",
   "id": "55b6a6a7",
   "metadata": {},
   "source": [
    "###  3. The following algorithm yields the season (Spring, Summer, Fall, or Winter) for a given month and day. If month is 1, 2, or 3, season = \"Winter\" Else if month is 4, 5, or 6, season = \"Spring\" Else if month is 7, 8, or 9, season = \"Summer\" Else if month is 10, 11, or 12, season = \"Fall\" f month is divisible by 3 and day >= 21 If season is \"Winter\", season = \"Spring\" Else if season is \"Spring\", season = \"Summer\"  Else if season is \"Summer\", season = \"Fall\" Else season = \"Winter\" Complete the following function named get_season(date_str) that accepts a date string and returns the season, as    determined by the above algorithm. Finally, complete and invoke the main() function to process the given 2D list    of events and print out a tabulated report of the events along with their season. (Hint: You may use dateparser    to parse the dates and extract the necessary parameters)."
   ]
  },
  {
   "cell_type": "code",
   "execution_count": 5,
   "id": "8baf87fc",
   "metadata": {},
   "outputs": [
    {
     "name": "stdout",
     "output_type": "stream",
     "text": [
      "-----------------------------------------------------------------\n",
      "Date                Activity                      Calendar Season          \n",
      "-----------------------------------------------------------------\n",
      "Aug. 23, 2021       Classes Begin                 Summer 2021              \n",
      "Sep. 06, 2021       Labor Day                     Summer 2021              \n",
      "Oct. 11, 2021       Columbus Day                  Fall 2021                \n",
      "Nov. 11, 2021       Veterans Day                  Fall 2021                \n",
      "Nov. 24, 2021       Thanksgiving                  Fall 2021                \n",
      "Dec. 13, 2021       Final Exam                    Fall 2021                \n",
      "Jan. 10, 2022       Classes Begin                 Winter 2022              \n",
      "Jan. 17, 2022       Martin Luther King Jr. Day    Winter 2022              \n",
      "Mar. 07, 2022       Spring Break                  Winter 2022              \n",
      "Apr. 28, 2022       Study Day                     Spring 2022              \n",
      "May. 02, 2022       Final Exam                    Spring 2022              \n"
     ]
    }
   ],
   "source": [
    "from dateparser import parse\n",
    "\n",
    "def get_season (date_str: str):\n",
    "# Implement the above algorithm here\n",
    "# return the season\n",
    "    date = parse(date_str)\n",
    "    if date.month <= 3:\n",
    "        season = \"Winter\"\n",
    "    elif date.month > 3 and date.month <= 6:\n",
    "        season = \"Spring\"\n",
    "    elif date.month > 6 and date.month <= 9:\n",
    "        season = \"Summer\"\n",
    "    elif date.month > 9 and date.month <= 12:\n",
    "        season = \"Fall\"\n",
    "        \n",
    "    if date.month % 3 == 0 and date.day >= 21:\n",
    "        if season == \"Winter\":\n",
    "            season = \"Spring\"\n",
    "        elif season == \"Spring\":\n",
    "            season = \"Summer\"\n",
    "        elif season == \"Summer\":\n",
    "            season = \"Fall\"\n",
    "        elif season == \"Fall\":\n",
    "            season = \"Winter\"\n",
    "        \n",
    "    return season + \" \" + str(date.year)\n",
    "        \n",
    "\n",
    "def main ():\n",
    "# A 2D list containing dates followed by the title of the events\n",
    "    events = [\n",
    "    [\"Aug. 23, 2021\", \"Classes Begin\"],\n",
    "    [\"Sept. 6, 2021\", \"Labor Day\"],\n",
    "    [\"Oct. 11, 2021\", \"Columbus Day\"],\n",
    "    [\"Nov. 11, 2021\", \"Veterans Day\"],\n",
    "    [\"Nov. 24, 2021\", \"Thanksgiving\"],\n",
    "    [\"Dec. 13, 2021\", \"Final Exam\"],\n",
    "    [\"01/10/2022\", \"Classes Begin\"],\n",
    "    [\"01/17/2022\", \"Martin Luther King Jr. Day\"],\n",
    "    [\"March 07, 2022\", \"Spring Break\"],\n",
    "    [\"4 -28 -2022\", \"Study Day\"],\n",
    "    [\"May 2, 2022\", \"Final Exam\"],\n",
    "    ]\n",
    "    \n",
    "    print(\"-----------------------------------------------------------------\")\n",
    "    print('{:20s}{:30s}{:25s}'.format('Date','Activity','Calendar Season'))\n",
    "    print(\"-----------------------------------------------------------------\")\n",
    "\n",
    "    for e in events:\n",
    "        season = get_season(e[0])\n",
    "        date = parse(e[0])\n",
    "        d = date.strftime(\"%b. %d, %Y\")\n",
    "        \n",
    "        print('{:20s}{:30s}{:25s}'.format(d,e[1],season))\n",
    "        \n",
    "main()"
   ]
  },
  {
   "cell_type": "markdown",
   "id": "6943ca25",
   "metadata": {},
   "source": [
    "### 4. Given a 2D list of characters and a list of tuples containing replacement pairs, write Python code to replace each character in the list with its replacement. The tuples are of the form (current_char, replacement_char). Print out your list with each row on a new line. For example, given the following list and its replacement pairs:"
   ]
  },
  {
   "cell_type": "code",
   "execution_count": 6,
   "id": "e71ad27b",
   "metadata": {},
   "outputs": [
    {
     "name": "stdout",
     "output_type": "stream",
     "text": [
      " FLORIDA'S\n",
      "   STEM    \n",
      "UNIVERSITY\n"
     ]
    }
   ],
   "source": [
    "data =[\n",
    "      ['!','F','L','O','R','/','D','A','\\'','_'],\n",
    "      ['!','!','!','_','T','*','M','!','!','!','!'],\n",
    "      ['U','N','/','V','*','R','_','/','T','Y']\n",
    "  ]\n",
    "\n",
    "replacements = [('*', 'E'), ('/', 'I'), ('!', ' '), ('_', 'S')]\n",
    "\n",
    "for i in range(len(data)):\n",
    "    for j in range(len(data[i])):\n",
    "        for replacement in replacements:\n",
    "            if data[i][j]== replacement[0]:\n",
    "                data[i][j]=replacement[1]\n",
    "                \n",
    "print('\\n'.join(map(''.join,data)))"
   ]
  },
  {
   "cell_type": "code",
   "execution_count": null,
   "id": "625a5f94",
   "metadata": {},
   "outputs": [],
   "source": []
  }
 ],
 "metadata": {
  "kernelspec": {
   "display_name": "Python 3",
   "language": "python",
   "name": "python3"
  },
  "language_info": {
   "codemirror_mode": {
    "name": "ipython",
    "version": 3
   },
   "file_extension": ".py",
   "mimetype": "text/x-python",
   "name": "python",
   "nbconvert_exporter": "python",
   "pygments_lexer": "ipython3",
   "version": "3.8.8"
  }
 },
 "nbformat": 4,
 "nbformat_minor": 5
}
