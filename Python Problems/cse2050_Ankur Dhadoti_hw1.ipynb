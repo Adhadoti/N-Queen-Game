{
 "cells": [
  {
   "cell_type": "markdown",
   "id": "04a09d3d",
   "metadata": {},
   "source": [
    "# Homework 1\n",
    "\n",
    "CSE 2050 Ankur Dhadoti"
   ]
  },
  {
   "cell_type": "markdown",
   "id": "f7d92d8d",
   "metadata": {},
   "source": [
    "1. (10 points) Given the following lists containing salaries for 2020 and the respective employee names, use a loop to print out a tabulated projected increase of 3% for 2021 using the .format() formatting approach. Also print out the total salaries."
   ]
  },
  {
   "cell_type": "code",
   "execution_count": 1,
   "id": "e6b61b86",
   "metadata": {},
   "outputs": [
    {
     "name": "stdout",
     "output_type": "stream",
     "text": [
      "Employee            2020 Salary    2021 Salary    \n",
      "----------------------------------------------\n",
      "Willena Shupe       102,633        105,712        \n",
      "Jolanda Agin        82,012         84,472         \n",
      "Leta Stacker        129,860        133,756        \n",
      "Leonora Oliverio    48,949         50,417         \n",
      "Birgit Stoudt       55,208         56,864         \n",
      "Aron Valtierra      95,600         98,468         \n",
      "Vi Buschman         40,030         41,231         \n",
      "----------------------------------------------\n",
      "Total               554,292        570,921        \n"
     ]
    }
   ],
   "source": [
    "salaries = [\"102,633\", \"82,012\", \"129,860\", \"48,949\", \"55,208\", \"95,600\", \"40,030\"]\n",
    "names = [\"Willena Shupe\", \"Jolanda Agin\", \"Leta Stacker\",\n",
    "  \"Leonora Oliverio\", \"Birgit Stoudt\", \"Aron Valtierra\", \"Vi Buschman\"\n",
    "  ]\n",
    "converted_salaries=salaries\n",
    "total=int()\n",
    "total2=int()\n",
    "\n",
    "\n",
    "print('{:20s}{:15s}{:15s}'.format('Employee', '2020 Salary','2021 Salary'))\n",
    "print(\"----------------------------------------------\")\n",
    "for i in range(0, 7):\n",
    "    converted_salaries[i] = converted_salaries[i].replace(',', '')\n",
    "    addition=int(converted_salaries[i])*(3/100)\n",
    "    add2=int(converted_salaries[i])+addition\n",
    "    comma=\"{:,}\".format(int(salaries[i]))\n",
    "    comma2=\"{:,}\".format(round(add2))\n",
    "    print('{:20s}{:15s}{:15s}'.format(names[i],comma,comma2))\n",
    "    total=total+int(converted_salaries[i])\n",
    "    total2=total2+add2\n",
    "    comma3=\"{:,}\".format(round(total2))\n",
    "    comma4=\"{:,}\".format(round(total))\n",
    "print(\"----------------------------------------------\")\n",
    "print('{:20s}{:15s}{:15s}'.format('Total',comma4,comma3))\n"
   ]
  },
  {
   "cell_type": "markdown",
   "id": "88c67987",
   "metadata": {},
   "source": [
    "2. Given any list whose length is divisible by 4 and whose values are numeric, write Python code that divides the list into four quarters and prints out the values for each quarter. For example, given the following list of 24 values:"
   ]
  },
  {
   "cell_type": "code",
   "execution_count": 2,
   "id": "255972bc",
   "metadata": {},
   "outputs": [
    {
     "name": "stdout",
     "output_type": "stream",
     "text": [
      "X-DSPAM-Confidence\n",
      "Email 1: 84.75%\n",
      "Email 2: 61.78%\n",
      "Email 3: 69.61%\n",
      "Email 4: 75.65%\n",
      "Email 5: 76.26%\n"
     ]
    }
   ],
   "source": [
    "email_spam = [\"X-DSPAM-Confidence:0.8475\", \"X-DSPAM-Confidence:0.6178\",\n",
    "  \"X-DSPAM-Confidence:0.6961\", \"X-DSPAM-Confidence:0.7565\", \"X-DSPAM-Confidence:0.7626\"]\n",
    "\n",
    "converted_string=email_spam\n",
    "print(\"X-DSPAM-Confidence\")\n",
    "for i in range(0,len(email_spam)):\n",
    "    converted_string[i]=converted_string[i].replace(\"X-DSPAM-Confidence:\",'0')\n",
    "    result=float( converted_string[i])*100\n",
    "    comma=round(result,2)\n",
    "    print(f\"Email {i+1}: {comma}%\")"
   ]
  },
  {
   "cell_type": "markdown",
   "id": "9fe7624e",
   "metadata": {},
   "source": [
    "3. Given any list whose length is divisible by 4 and whose values are numeric, write Python code that divides the list into four quarters and prints out the values for each quarter. For example, given the following list of 24 values:"
   ]
  },
  {
   "cell_type": "code",
   "execution_count": 5,
   "id": "de51659f",
   "metadata": {},
   "outputs": [
    {
     "name": "stdout",
     "output_type": "stream",
     "text": [
      "Quarter 1:\n",
      "72 32 24 61 30 42 \n",
      "\n",
      "Quarter 2:\n",
      "51 21 56 32 39 70 \n",
      "\n",
      "Quarter 3:\n",
      "75 54 62 49 28 54 \n",
      "\n",
      "Quarter 4:\n",
      "39 24 31 64 72 27 \n",
      "\n"
     ]
    }
   ],
   "source": [
    "temperatures = [72, 32, 24, 61, 30, 42, 51, 21, 56, 32, 39, 70, 75, 54, 62, 49, 28, 54, 39, 24,\n",
    "  31, 64, 72, 27]\n",
    "count=int()\n",
    "count=0\n",
    "count2=0\n",
    "divide=int()\n",
    "comma=temperatures\n",
    "divide=int(len(temperatures)/4)\n",
    "while count<len(temperatures):\n",
    "    count2+=1\n",
    "    print(f\"Quarter {count2}:\")\n",
    "\n",
    "    for i in range(int(count),int(divide)):\n",
    "    \n",
    "        print(temperatures[i],end=\" \")\n",
    "    \n",
    "    print(\"\\n\")\n",
    "    count=divide\n",
    "    divide=divide+(len(temperatures)/4)"
   ]
  },
  {
   "cell_type": "markdown",
   "id": "6c4e63ef",
   "metadata": {},
   "source": [
    "4. (a) Prompt the user for a list of values (integers or floats separated by commas) and compute the 1st quartile (25th percentile), 2nd quartile (50th percentile), 3rd quartile (75th percentile), and the Inter-quartile range. Assume that the length of the list is divisible by 4."
   ]
  },
  {
   "cell_type": "code",
   "execution_count": 4,
   "id": "a37532d9",
   "metadata": {},
   "outputs": [
    {
     "name": "stdout",
     "output_type": "stream",
     "text": [
      "Enter the values(the length should be divisiable by 4): 23.4,12.8,46.5,90,11.5,8.9,7,2\n",
      "\n",
      "\n",
      "The sorted array:[2.0, 7.0, 8.9, 11.5, 12.8, 23.4, 46.5, 90.0]\n",
      "\n",
      "\n",
      "Quartile 1: 7.0\n",
      "Quartile 2: 11.5\n",
      "Quartile 3: 23.4\n",
      "\n",
      "The Inter-quartile range is 16.4\n"
     ]
    }
   ],
   "source": [
    "lst = list(map(float, input(\"Enter the values(the length should be divisiable by 4): \").split(\",\")))\n",
    "\n",
    "lst.sort()\n",
    "print(\"\\n\")\n",
    "\n",
    "print(f\"The sorted array:{lst}\")\n",
    "\n",
    "print(\"\\n\")\n",
    "\n",
    "q1=round(len(lst)*(25/100))-1\n",
    "\n",
    "q2=round(len(lst)*(50/100))-1\n",
    "\n",
    "q3=round(len(lst)*(75/100))-1\n",
    "\n",
    "\n",
    "print(f\"Quartile 1: {lst[q1]}\\nQuartile 2: {lst[q2]}\\nQuartile 3: {lst[q3]}\\n\")\n",
    "\n",
    "print(f\"The Inter-quartile range is {lst[q3]-lst[q1]}\")"
   ]
  },
  {
   "cell_type": "markdown",
   "id": "2e0680be",
   "metadata": {},
   "source": [
    "4. (b)Given the following list of grades for a certain quiz. Imagine that Elizabeth’s score is not included in the list, but she scored 82%. Compute the quartiles (Q1, Q2, Q3) and show the quartile to which she belongs.\n"
   ]
  },
  {
   "cell_type": "code",
   "execution_count": 6,
   "id": "fdf27a7d",
   "metadata": {},
   "outputs": [
    {
     "name": "stdout",
     "output_type": "stream",
     "text": [
      "Unsorted grades[73, 92, 79, 89, 94, 89, 68, 82, 80, 67, 94, 77, 80, 69, 70, 68, 78, 76, 84, 71, 94, 89, 69, 71]\n",
      "\n",
      "\n",
      "The sorted grades:[67, 68, 68, 69, 69, 70, 71, 71, 73, 76, 77, 78, 79, 80, 80, 82, 84, 89, 89, 89, 92, 94, 94, 94]\n",
      "\n",
      "\n",
      "0% to 25% range\n",
      "67 68 68 69 69 \n",
      "\n",
      "25% to 50% range\n",
      "70 71 71 73 76 77 \n",
      "\n",
      "50% to 75% range\n",
      "78 79 80 80 82 84 \n",
      "\n",
      "75% to 100% range\n",
      "89 89 89 92 94 94 94 \n",
      "\n",
      "Quartile 1: 70\n",
      "Quartile 2: 78\n",
      "Quartile 3: 89\n",
      "\n",
      "Elizabeth lies in 75% to 100% range that is Quartile 3 and above and here score is in the range \n",
      "89 89 89 92 94 94 94 "
     ]
    }
   ],
   "source": [
    "grades = [73, 92, 79, 89, 94, 89, 68, 82, 80, 67, 94, 77, 80, 69, 70, 68, 78,\n",
    "76, 84, 71, 94, 89, 69, 71]\n",
    "\n",
    "print(f\"Unsorted grades{grades}\")\n",
    "\n",
    "print(\"\\n\")\n",
    "\n",
    "grades.sort()\n",
    "\n",
    "print(f\"The sorted grades:{grades}\")\n",
    "\n",
    "print(\"\\n\")\n",
    "\n",
    "q1=round(len(grades)*(25/100))-1\n",
    "\n",
    "q2=round(len(grades)*(50/100))-1\n",
    "\n",
    "q3=round(len(grades)*(75/100))-1\n",
    "\n",
    "print(f\"0% to 25% range\")\n",
    "for i in range(0,q1):\n",
    "    print(grades[i],end=' ')\n",
    "    \n",
    "print(\"\\n\")\n",
    "    \n",
    "print(f\"25% to 50% range\")\n",
    "for i in range(q1,q2):\n",
    "    print(grades[i],end=' ')\n",
    "    \n",
    "print(\"\\n\")\n",
    "\n",
    "print(f\"50% to 75% range\")\n",
    "for i in range(q2,q3):\n",
    "    print(grades[i],end=' ')\n",
    "    \n",
    "print(\"\\n\")\n",
    "    \n",
    "print(f\"75% to 100% range\")\n",
    "for i in range(q3,len(grades)):\n",
    "    print(grades[i],end=' ')\n",
    "    \n",
    "print(\"\\n\")\n",
    "\n",
    "print(f\"Quartile 1: {grades[q1]}\\nQuartile 2: {grades[q2]}\\nQuartile 3: {grades[q3]}\\n\")\n",
    "\n",
    "print(\"Elizabeth lies in 75% to 100% range that is Quartile 3 and above and here score is in the range \")\n",
    "for i in range(q3,len(grades)):\n",
    "    print(grades[i],end=' ')\n",
    "\n",
    "\n"
   ]
  },
  {
   "cell_type": "code",
   "execution_count": null,
   "id": "7367cf3e",
   "metadata": {},
   "outputs": [],
   "source": []
  }
 ],
 "metadata": {
  "kernelspec": {
   "display_name": "Python 3",
   "language": "python",
   "name": "python3"
  },
  "language_info": {
   "codemirror_mode": {
    "name": "ipython",
    "version": 3
   },
   "file_extension": ".py",
   "mimetype": "text/x-python",
   "name": "python",
   "nbconvert_exporter": "python",
   "pygments_lexer": "ipython3",
   "version": "3.8.8"
  }
 },
 "nbformat": 4,
 "nbformat_minor": 5
}
