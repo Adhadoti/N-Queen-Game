{
 "cells": [
  {
   "cell_type": "markdown",
   "id": "820611e7",
   "metadata": {},
   "source": [
    "# Homework 5"
   ]
  },
  {
   "cell_type": "code",
   "execution_count": 1,
   "id": "4e86121d",
   "metadata": {},
   "outputs": [
    {
     "name": "stdout",
     "output_type": "stream",
     "text": [
      "Requirement already satisfied: requests in /Users/ankurdhadoti/opt/anaconda3/lib/python3.8/site-packages (2.25.1)\n",
      "Requirement already satisfied: idna<3,>=2.5 in /Users/ankurdhadoti/opt/anaconda3/lib/python3.8/site-packages (from requests) (2.10)\n",
      "Requirement already satisfied: chardet<5,>=3.0.2 in /Users/ankurdhadoti/opt/anaconda3/lib/python3.8/site-packages (from requests) (4.0.0)\n",
      "Requirement already satisfied: certifi>=2017.4.17 in /Users/ankurdhadoti/opt/anaconda3/lib/python3.8/site-packages (from requests) (2020.12.5)\n",
      "Requirement already satisfied: urllib3<1.27,>=1.21.1 in /Users/ankurdhadoti/opt/anaconda3/lib/python3.8/site-packages (from requests) (1.26.4)\n",
      "Requirement already satisfied: beautifulsoup4 in /Users/ankurdhadoti/opt/anaconda3/lib/python3.8/site-packages (4.9.3)\n",
      "Requirement already satisfied: soupsieve>1.2 in /Users/ankurdhadoti/opt/anaconda3/lib/python3.8/site-packages (from beautifulsoup4) (2.2.1)\n",
      "Requirement already satisfied: lxml in /Users/ankurdhadoti/opt/anaconda3/lib/python3.8/site-packages (4.6.3)\n"
     ]
    }
   ],
   "source": [
    "! pip install requests\n",
    "! pip install beautifulsoup4\n",
    "! pip install lxml"
   ]
  },
  {
   "cell_type": "markdown",
   "id": "be9bc372",
   "metadata": {},
   "source": [
    "# 1)"
   ]
  },
  {
   "cell_type": "code",
   "execution_count": null,
   "id": "b2f7b098",
   "metadata": {},
   "outputs": [],
   "source": [
    "import urllib.request\n",
    "import requests\n",
    "import re\n",
    "import urllib.request\n",
    "import bs4 \n",
    "import urllib.request\n",
    "from bs4 import BeautifulSoup\n",
    "\n",
    "\n",
    "def get_html(url):\n",
    "    response = requests.get(url)\n",
    "    \n",
    "    source_code= response.content\n",
    "    return source_code\n",
    "\n",
    "\n",
    "def main():\n",
    "    store_dict={}\n",
    "    keys=[None]*1000\n",
    "    values=[]\n",
    "    count_1=0\n",
    "    count_2=0\n",
    "    \n",
    "    url=\"http://cse2050.drfitz.fit/data/very/very_words.txt\"\n",
    "    store=get_html(url)\n",
    "    converted_list=[]\n",
    "    soup = BeautifulSoup(store, 'html.parser')\n",
    " \n",
    "    for data in soup:\n",
    "        clear=re.findall(\"Very [a-z]+\",data)\n",
    "        clear2=re.findall(r\">\\s[A-Za-z]+\\b\",data)\n",
    "        \n",
    "        \n",
    "    keys=[None]*len(clear)\n",
    "    for check in clear:\n",
    "        keys[count_1]=check.rstrip(\"\\n\")\n",
    "        count_1+=1\n",
    "    \n",
    "    \n",
    "    values=[None]*len(clear2)\n",
    "    for check2 in clear2:\n",
    "        values[count_2]=re.sub(r\"> \", \"\", check2)\n",
    "        count_2+=1\n",
    "        \n",
    "    for i in range(0,len(clear)):\n",
    "        store_dict.update({keys[i]:values[i]})\n",
    "        \n",
    "        \n",
    "        \n",
    "    string = input(\"Enter the sentence: \")\n",
    "     \n",
    "    if re.findall(\"very\",string) or re.findall(\"Very\",string):\n",
    "        buffer=re.findall(\"very [a-z]+\",string)\n",
    "    \n",
    "        if(buffer):\n",
    "            capital =buffer[0].capitalize()\n",
    "            word1=' '.join(map(str,buffer))\n",
    "            word2=str(store_dict.get(capital))\n",
    "            \n",
    "            \n",
    "            new_string=string.replace(str(word1),str(word2).lower())\n",
    "            \n",
    "            print(\"The replaced string:\",new_string)\n",
    "            \n",
    "            print(\"\\nPart B\\n\")\n",
    "            \n",
    "            print(\"Input:\",string)\n",
    "            improved=string.replace(str(word1),'['+str(word2).lower()+']')\n",
    "            print(\"Output:\",improved)\n",
    "           \n",
    "           \n",
    "        else:\n",
    "            print(\"error\")\n",
    "        \n",
    "    else:\n",
    "        print(\"there is no word in the sentence that matches Dictionary\")\n",
    "                \n",
    "            \n",
    "\n",
    "main()\n",
    "\n"
   ]
  },
  {
   "cell_type": "markdown",
   "id": "6ef8d429",
   "metadata": {},
   "source": [
    "# 2)"
   ]
  },
  {
   "cell_type": "markdown",
   "id": "26c0aac3",
   "metadata": {},
   "source": [
    "Gist of all the tools required to solve the prblem"
   ]
  },
  {
   "cell_type": "code",
   "execution_count": 2,
   "id": "695a191a",
   "metadata": {},
   "outputs": [],
   "source": [
    "from re import split\n",
    "import urllib.request\n",
    "from bs4 import BeautifulSoup\n",
    "\n",
    "def read_file(filename):\n",
    "    \n",
    "    in_file = open (filename,\"r\") \n",
    "    \n",
    "    story = in_file.read() \n",
    "    \n",
    "    in_file.close() \n",
    "    chapters = re.split (\"CHAPTER\\s [\\w]+\", story)\n",
    "    chapters.pop(0) \n",
    "    chp_number = re.findall (\"CHAPTER\\s ([\\wl+)\", story)\n",
    "    return (chapters, chp_number)\n",
    "    \n",
    "#extract the file \n",
    "def read_words(chapters, chp_number) :\n",
    "    \n",
    "    count = []\n",
    "    \n",
    "    for i in range(0, len(chapters)):\n",
    "        chapter = re.split(\"\\n\\n\\n\") \n",
    "        chapter_key = {('Chapter'<8)}\n",
    "        words =re.sub(r\"[-]+\",\" \")\n",
    "        words = re.sub(r\"[^\\w\\s]\", \"\")\n",
    "        \n",
    "\n",
    "    \n",
    "def main():\n",
    "    url=\"https://www.gutenberg.org/files/11/old/alice30.txt\"\n",
    "   \n",
    "main()"
   ]
  },
  {
   "cell_type": "markdown",
   "id": "5113f0a1",
   "metadata": {},
   "source": [
    "# 3)\n"
   ]
  },
  {
   "cell_type": "code",
   "execution_count": 5,
   "id": "3666a240",
   "metadata": {},
   "outputs": [
    {
     "name": "stdout",
     "output_type": "stream",
     "text": [
      "{'year': 2010, 'baby_names': [{1: {'male': 'Jacob', 'female': 'Isabella'}}, {2: {'male': 'Ethan', 'female': 'Sophia'}}, {3: {'male': 'Michael', 'female': 'Emma'}}, {4: {'male': 'Jayden', 'female': 'Olivia'}}, {5: {'male': 'William', 'female': 'Ava'}}, {6: {'male': 'Alexander', 'female': 'Emily'}}, {7: {'male': 'Noah', 'female': 'Abigail'}}, {8: {'male': 'Daniel', 'female': 'Madison'}}, {9: {'male': 'Aiden', 'female': 'Chloe'}}, {10: {'male': 'Anthony', 'female': 'Mia'}}]}\n"
     ]
    }
   ],
   "source": [
    "from lxml import html\n",
    "import requests\n",
    "\n",
    "def get_top_baby_names(year,top):\n",
    "    url=f\"http://cse2050.drfitz.fit/data/baby_names/baby{year}.html\"\n",
    "    response = requests.get(url)\n",
    "    source_code = response.content\n",
    "    html_elem = html.document_fromstring(source_code)\n",
    "    tables = html_elem.cssselect('table')\n",
    "    final_table=[]\n",
    "    trs=[]\n",
    "\n",
    "    if len(tables)>=2:\n",
    "        trs=tables[1].cssselect(\"tr\")\n",
    "    else:\n",
    "        trs=tables[0].cssselect(\"tr\")\n",
    "\n",
    "    if top<1:\n",
    "        return {}\n",
    "\n",
    "    for tr in trs:\n",
    "        output_table=[]\n",
    "        tds=tr.cssselect(\"td\")\n",
    "\n",
    "        for td in tds:\n",
    "            cell_text=td.text_content().strip()\n",
    "            output_table.append(cell_text)\n",
    "        final_table.append (output_table)\n",
    "    final_table.pop(0)\n",
    "    row_content =[]\n",
    "    top_names ={}\n",
    "    top_names[\"year\"]=year\n",
    "    \n",
    "    for i in range(0, top):\n",
    "        row_content.append({i+1:{\"male\":final_table[i][1],\"female\":final_table[i][2]}})\n",
    "    top_names [\"baby_names\"] =row_content\n",
    "    return top_names\n",
    "\n",
    "\n",
    "\n",
    "def main():\n",
    "    store=get_top_baby_names(2010,10)\n",
    "    print(store)\n",
    "    \n",
    "main()\n",
    "\n"
   ]
  },
  {
   "cell_type": "code",
   "execution_count": null,
   "id": "d7c305d9",
   "metadata": {},
   "outputs": [],
   "source": []
  }
 ],
 "metadata": {
  "kernelspec": {
   "display_name": "Python 3",
   "language": "python",
   "name": "python3"
  },
  "language_info": {
   "codemirror_mode": {
    "name": "ipython",
    "version": 3
   },
   "file_extension": ".py",
   "mimetype": "text/x-python",
   "name": "python",
   "nbconvert_exporter": "python",
   "pygments_lexer": "ipython3",
   "version": "3.8.8"
  }
 },
 "nbformat": 4,
 "nbformat_minor": 5
}
