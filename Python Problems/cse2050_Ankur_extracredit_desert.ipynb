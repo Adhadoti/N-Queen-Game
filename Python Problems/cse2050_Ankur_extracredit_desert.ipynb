{
 "cells": [
  {
   "cell_type": "markdown",
   "id": "541d47de",
   "metadata": {},
   "source": [
    "# 2a"
   ]
  },
  {
   "cell_type": "code",
   "execution_count": 18,
   "id": "bff9d4f7",
   "metadata": {},
   "outputs": [
    {
     "name": "stdout",
     "output_type": "stream",
     "text": [
      "                                     title  usa_gross_income date_published\n",
      "62334                        Black Panther       700426566.0     2018-02-14\n",
      "73864               Avengers: Infinity War       678815482.0     2018-04-25\n",
      "71919                    Gli Incredibili 2       608581744.0     2018-09-19\n",
      "76035  Jurassic World - Il regno distrutto       417719760.0     2018-06-07\n",
      "58512                              Aquaman       335061807.0     2019-01-01\n",
      "77748                           Deadpool 2       324591735.0     2018-05-15\n",
      "68400                            Il Grinch       270620950.0     2018-11-29\n",
      "76126        Mission: Impossible - Fallout       220159104.0     2018-08-29\n",
      "61357                    Bohemian Rhapsody       216668042.0     2018-11-29\n",
      "76734                 Ant-Man and the Wasp       216648740.0     2018-08-14\n"
     ]
    }
   ],
   "source": [
    "import pandas as pd\n",
    "import numpy as np\n",
    "import datetime as dt\n",
    "\n",
    "   \n",
    "df = pd.read_csv (\"IMDb_movies.csv\",low_memory=False,sep=\",\")\n",
    "df['imdb_title_id'] = df['imdb_title_id'].str.strip('tt')\n",
    "df['budget'] = df['budget'].str.strip('$,MYR')\n",
    "df['usa_gross_income'] =pd.to_numeric(df['usa_gross_income'].str.strip('EUR GBP HKD $,'))\n",
    "df['worlwide_gross_income'] = df['worlwide_gross_income'].str.strip('$,')\n",
    "df['avg_vote'] =pd.to_numeric(df['avg_vote'])\n",
    "df.rename(columns={'worlwide_gross_income':'worldwide_gross_income'})\n",
    "#Converted the column data type but the data in csv file does not support the data format\n",
    "\n",
    "#df.astype({'date_published': 'datetime64'})\n",
    "#df['date_published'] = df['date_published'].str.strip('TV Movie 2019')\n",
    "#df['date_published']= pd.to_datetime(df['date_published'])\n",
    "\n",
    "#df[(df.year == 2018) & (df.usa_gross_income >=\"700000000\")]\n",
    "\n",
    "df_filter=df.sort_values(\"usa_gross_income\", ascending = False)\n",
    "df_filter=df_filter[df_filter[\"year\"]==\"2018\"]\n",
    "top_10=df_filter.head(10)\n",
    "temp =top_10[[\"title\", \"usa_gross_income\", \"date_published\"]]\n",
    "\n",
    "\n",
    "print(temp)\n"
   ]
  },
  {
   "cell_type": "markdown",
   "id": "73a31443",
   "metadata": {},
   "source": [
    "# b)"
   ]
  },
  {
   "cell_type": "code",
   "execution_count": 19,
   "id": "7ddb3330",
   "metadata": {
    "scrolled": true
   },
   "outputs": [
    {
     "name": "stdout",
     "output_type": "stream",
     "text": [
      "                                original_title             genre  avg_vote\n",
      "83275                          Suvarna Sundari  Action, Thriller       9.9\n",
      "84995                              Notuku Potu   Horror, Mystery       9.8\n",
      "55310                                   Jeeudo    Drama, Romance       9.8\n",
      "56032                                       Ek     Action, Drama       9.8\n",
      "54217        Lejos de Casa pelicula Venezolana    Drama, History       9.8\n",
      "...                                        ...               ...       ...\n",
      "78944                    Utsuroi no hyôhonbako            Comedy       1.0\n",
      "55972                           Prema Panjaram     Drama, Family       1.0\n",
      "75895                  Ritoru Kyouta no bouken         Adventure       1.0\n",
      "76389  Chun jie xin ling: Zhu meng yan yi quan     Comedy, Drama       1.0\n",
      "76216                              A no dentou             Drama       1.0\n",
      "\n",
      "[85855 rows x 3 columns]\n"
     ]
    }
   ],
   "source": [
    "average=df.sort_values(\"avg_vote\", ascending = False)\n",
    "\n",
    "print(average[[\"original_title\",\"genre\", \"avg_vote\"]])"
   ]
  },
  {
   "cell_type": "markdown",
   "id": "fd6cb602",
   "metadata": {},
   "source": [
    "# c) "
   ]
  },
  {
   "cell_type": "code",
   "execution_count": 22,
   "id": "2490ac60",
   "metadata": {},
   "outputs": [
    {
     "name": "stdout",
     "output_type": "stream",
     "text": [
      "Enter the name of the actor:Frederick Warde\n",
      "                                                  actors original_title  year\n",
      "9      Robert Gemp, Frederick Warde, Albert Gardner, ...    Richard III  1912\n",
      "20958  Scott Glenn, Alberta Watson, Jürgen Prochnow, ...       The Keep  1983\n"
     ]
    }
   ],
   "source": [
    "value=input(\"Enter the name of the actor:\")\n",
    "\n",
    "random_var=df.fillna(\"\")\n",
    "actors_=random_var[random_var[\"actors\"].str.contains(value)]\n",
    "print(actors_[[\"actors\",\"original_title\",\"year\"]])"
   ]
  },
  {
   "cell_type": "markdown",
   "id": "63b0d10f",
   "metadata": {},
   "source": [
    "# d)"
   ]
  },
  {
   "cell_type": "code",
   "execution_count": 24,
   "id": "583de90f",
   "metadata": {},
   "outputs": [
    {
     "name": "stdout",
     "output_type": "stream",
     "text": [
      "       original_title  duration\n",
      "32798  Doragon bôru Z        41\n"
     ]
    }
   ],
   "source": [
    "short_time=df.sort_values(\"duration\", ascending = True)\n",
    "final=short_time.head(1)\n",
    "print(final[[\"original_title\",\"duration\"]])"
   ]
  }
 ],
 "metadata": {
  "kernelspec": {
   "display_name": "Python 3",
   "language": "python",
   "name": "python3"
  },
  "language_info": {
   "codemirror_mode": {
    "name": "ipython",
    "version": 3
   },
   "file_extension": ".py",
   "mimetype": "text/x-python",
   "name": "python",
   "nbconvert_exporter": "python",
   "pygments_lexer": "ipython3",
   "version": "3.8.8"
  }
 },
 "nbformat": 4,
 "nbformat_minor": 5
}