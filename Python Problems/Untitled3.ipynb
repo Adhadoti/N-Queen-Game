{
 "cells": [
  {
   "cell_type": "code",
   "execution_count": 1,
   "id": "baac1d53",
   "metadata": {},
   "outputs": [
    {
     "name": "stdout",
     "output_type": "stream",
     "text": [
      "three\n"
     ]
    }
   ],
   "source": [
    "ok=['one','two','three','four']\n",
    "print(ok[2])"
   ]
  },
  {
   "cell_type": "code",
   "execution_count": 5,
   "id": "a4292976",
   "metadata": {},
   "outputs": [
    {
     "name": "stdout",
     "output_type": "stream",
     "text": [
      "a\n",
      "ab\n",
      "aa\n",
      "c\n",
      "[]\n"
     ]
    }
   ],
   "source": [
    "strings = [\"a\", \"ab\", \"aa\", \"c\"]\n",
    "\n",
    "new_strings = []\n",
    "\n",
    "for string in strings:\n",
    "#     new_string = string.replace(\"a\", \"1\")\n",
    "\n",
    "#     new_strings.append(new_string)\n",
    "    print(string)\n",
    "\n",
    "\n",
    "print(new_strings)"
   ]
  },
  {
   "cell_type": "code",
   "execution_count": null,
   "id": "d50252d7",
   "metadata": {},
   "outputs": [],
   "source": [
    "class ExpenseReport:\n",
    "    def show expense report (self, categories) :\n",
    "    total_expense = 0.0\n",
    "    total_categories= 0.0\n",
    "    o=\"o\"\n",
    "    for i in range (len (categories)) :\n",
    "        for j in range (len (categories[i].expenses)) :\n",
    "            total expense+= categories[i].expenses[j]\n",
    "    print ( \"Percentage sent by category\")\n",
    "    for i in range (len(categories)) :\n",
    "        for j in range (len (categories[i].expenses)) :\n",
    "            total categories += categories[i].expenses[j]\n",
    "    percentage = total_categories/total_expense * 100\n",
    "    print (f\"{categories[i].name: <9} |{o* int (percentage)} ({round (percentage, 1)}%)\")\n",
    "    total_categories=0.0\n"
   ]
  }
 ],
 "metadata": {
  "kernelspec": {
   "display_name": "Python 3",
   "language": "python",
   "name": "python3"
  },
  "language_info": {
   "codemirror_mode": {
    "name": "ipython",
    "version": 3
   },
   "file_extension": ".py",
   "mimetype": "text/x-python",
   "name": "python",
   "nbconvert_exporter": "python",
   "pygments_lexer": "ipython3",
   "version": "3.8.8"
  }
 },
 "nbformat": 4,
 "nbformat_minor": 5
}
