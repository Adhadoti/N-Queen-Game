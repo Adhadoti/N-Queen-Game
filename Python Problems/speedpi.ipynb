{
 "cells": [
  {
   "cell_type": "code",
   "execution_count": 35,
   "id": "8b7830db",
   "metadata": {},
   "outputs": [
    {
     "name": "stdout",
     "output_type": "stream",
     "text": [
      "{'Quarter': '1st', 'January': 6875, 'February': 7485, 'March': 8820, 'Total': 23180, 'Average': 7726, 'Max': 2, 'Min': 0}\n"
     ]
    }
   ],
   "source": [
    "def get_quarterly_report(year,quarter):\n",
    "    tesla_sales_2018 = ['6,875',   '7,485',   '8,820',   '6,150',   '11,250',  '11,062',  '16,675',  '21,700',  '29,975',  '20,325',  '24,600',  '32,600']\n",
    "    \n",
    "    year=tesla_sales_2018\n",
    "    normal_numbers=year\n",
    "    length=len(year)\n",
    "    m=quarter\n",
    "    store=year\n",
    "    total=0\n",
    "    final={}\n",
    "    \n",
    "    count=0\n",
    "    \n",
    "    for i in range(0, length):\n",
    "        normal_numbers[i] = int(normal_numbers[i].replace(',', ''))\n",
    "        \n",
    "    x= normal_numbers\n",
    "    #final=x\n",
    "    \n",
    "    if m == 1:\n",
    "        while count<3:\n",
    "            final[count]=x[count]\n",
    "            total+=x[count]\n",
    "            average=total/3\n",
    "            count+=1\n",
    "        maximum = max(final)\n",
    "        minimum = min(final)\n",
    "        return{'Quarter': '1st', 'January': final[0], 'February': final[1], 'March': final[2], 'Total': total, 'Average': int(average), 'Max':int(maximum), 'Min':minimum}\n",
    "        \n",
    "        \n",
    "    elif m==2:\n",
    "        count=3\n",
    "        while count<6:\n",
    "            final[count]=x[count]\n",
    "            total+=x[count]\n",
    "            average=total/3\n",
    "            count+=1\n",
    "        maximum = max(final)\n",
    "        minimum = min(final)\n",
    "        return{'Quarter': '2nd', 'April': final[0], 'May': final[1], 'June': final[2], 'Total': total, 'Average': int(average), 'Max':int(maximum), 'Min':minimum}\n",
    "            \n",
    "    elif m==3:\n",
    "        count=6\n",
    "        while count<9:\n",
    "            final[count]=x[count]\n",
    "            total+=x[count]\n",
    "            average=total/3\n",
    "            count+=1\n",
    "        maximum = max(final)\n",
    "        minimum = min(final)\n",
    "        return{'Quarter': '3rd', 'July': final[0], 'August': final[1], 'September': final[2], 'Total': total, 'Average': int(average), 'Max':int(maximum), 'Min':minimum}\n",
    "            \n",
    "    elif m==4:\n",
    "        count=9\n",
    "        while count<12:\n",
    "            final[count]=x[count]\n",
    "            total+=x[count]\n",
    "            average=total/3\n",
    "            count+=1\n",
    "        maximum = max(final)\n",
    "        minimum = min(final)\n",
    "        return{'Quarter': '4th', 'October': final[0], 'November': final[1], 'December': final[2], 'Total': total, 'Average': int(average), 'Max':int(maximum), 'Min':minimum}\n",
    "\n",
    "\n",
    "\n",
    "    \n",
    "    \n",
    "def main():\n",
    "    store=get_quarterly_report(1,1)\n",
    "    print(store)\n",
    "    \n",
    "main()"
   ]
  },
  {
   "cell_type": "code",
   "execution_count": null,
   "id": "16bd0f23",
   "metadata": {},
   "outputs": [],
   "source": []
  }
 ],
 "metadata": {
  "kernelspec": {
   "display_name": "Python 3",
   "language": "python",
   "name": "python3"
  },
  "language_info": {
   "codemirror_mode": {
    "name": "ipython",
    "version": 3
   },
   "file_extension": ".py",
   "mimetype": "text/x-python",
   "name": "python",
   "nbconvert_exporter": "python",
   "pygments_lexer": "ipython3",
   "version": "3.8.8"
  }
 },
 "nbformat": 4,
 "nbformat_minor": 5
}
