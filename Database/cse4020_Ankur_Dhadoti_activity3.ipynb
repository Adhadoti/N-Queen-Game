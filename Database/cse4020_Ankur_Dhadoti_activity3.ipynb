{
 "cells": [
  {
   "cell_type": "markdown",
   "id": "a4104680",
   "metadata": {},
   "source": [
    "# 1)"
   ]
  },
  {
   "cell_type": "code",
   "execution_count": 21,
   "id": "34edc74e",
   "metadata": {},
   "outputs": [],
   "source": [
    "import mysql.connector\n",
    "\n",
    "def main():\n",
    "    host = \"bank.cw2w4gcvc1md.us-east-1.rds.amazonaws.com\"\n",
    "    user = \"Ankur\"\n",
    "    password = open(\"credentials.txt\").read()\n",
    "    \n",
    "    conn = mysql.connector.connect(host=host, \n",
    "                                    user=user, \n",
    "                                    password = password,\n",
    "                                    database='cse4020_db')\n",
    "    cursor=conn.cursor()\n",
    "\n",
    "    sql_query=\"\"\"\n",
    "       \n",
    "        CREATE TRIGGER try_to_keep_em AFTER UPDATE on account  \n",
    "        for each row \n",
    "        BEGIN\n",
    "        if new.balance = 0 then\n",
    "        update loan set amount=loan.amount- (loan.amount *0.15)\n",
    "        where new.account_number in (select account.account_number \n",
    "        from account \n",
    "        join depositor \n",
    "        on depositor.account_number= account.account_number \n",
    "        join borrower \n",
    "        on borrower.customer_name = depositor.customer_name\n",
    "        where loan.loan_number= borrower.loan_number);\n",
    "        end if;\n",
    "        END \"\"\"\n",
    "    cursor.execute(sql_query)\n",
    "    conn.commit()\n",
    "    conn.close()    \n",
    "main()\n"
   ]
  },
  {
   "cell_type": "markdown",
   "id": "1869219a",
   "metadata": {},
   "source": [
    "#  2)"
   ]
  },
  {
   "cell_type": "code",
   "execution_count": 23,
   "id": "ad3740ff",
   "metadata": {},
   "outputs": [],
   "source": [
    "def main():\n",
    "    host = \"bank.cw2w4gcvc1md.us-east-1.rds.amazonaws.com\"\n",
    "    user = \"Ankur\"\n",
    "    password = open(\"credentials.txt\").read()\n",
    "    \n",
    "    conn = mysql.connector.connect(host=host, \n",
    "                                    user=user, \n",
    "                                    password = password,\n",
    "                                    database='cse4020_db')\n",
    "    cursor=conn.cursor()\n",
    "    \n",
    "    sql_query1=\"\"\"insert into customer values ('Patricia Richmond', 'NW 40th St.', 'Brooklyn');\"\"\"\n",
    "    sql_query2=\"\"\"insert into account values ('A-402', 'Brighton', '1200');\"\"\"\n",
    "    sql_query3=\"\"\"insert into loan values ('L-42', 'Brighton', '5000');\"\"\"\n",
    "    sql_query4=\"\"\"insert into depositor values ('Patricia Richmond', 'A-402');\"\"\"\n",
    "    sql_query5=\"\"\"insert into borrower values ('Patricia Richmond','L-42');\"\"\"\n",
    "    \n",
    "    cursor.execute(sql_query1)\n",
    "    cursor.execute(sql_query2)\n",
    "    cursor.execute(sql_query3)\n",
    "    cursor.execute(sql_query4)\n",
    "    cursor.execute(sql_query5)\n",
    "    conn.commit()\n",
    "    conn.close()    \n",
    "main()\n",
    "\n",
    "\n"
   ]
  },
  {
   "cell_type": "markdown",
   "id": "37e3033d",
   "metadata": {},
   "source": [
    "# 3)"
   ]
  },
  {
   "cell_type": "code",
   "execution_count": 34,
   "id": "ab7a48f0",
   "metadata": {},
   "outputs": [
    {
     "name": "stdout",
     "output_type": "stream",
     "text": [
      "('L-11', 'Round Hill', 900.0)\n",
      "('L-14', 'Downtown', 1500.0)\n",
      "('L-15', 'Perryridge', 1500.0)\n",
      "('L-16', 'Perryridge', 1300.0)\n",
      "('L-17', 'Downtown', 1000.0)\n",
      "('L-20', 'North Town', 7500.0)\n",
      "('L-21', 'Central', 570.0)\n",
      "('L-23', 'Redwood', 2000.0)\n",
      "('L-42', 'Brighton', 5000.0)\n",
      "('L-93', 'Mianus', 500.0)\n",
      "\n",
      "\n",
      "Changed loan table \n",
      "\n",
      "\n",
      "('L-11', 'Round Hill', 900.0)\n",
      "('L-14', 'Downtown', 1500.0)\n",
      "('L-15', 'Perryridge', 1500.0)\n",
      "('L-16', 'Perryridge', 1300.0)\n",
      "('L-17', 'Downtown', 1000.0)\n",
      "('L-20', 'North Town', 7500.0)\n",
      "('L-21', 'Central', 570.0)\n",
      "('L-23', 'Redwood', 2000.0)\n",
      "('L-42', 'Brighton', 4250.0)\n",
      "('L-93', 'Mianus', 500.0)\n"
     ]
    }
   ],
   "source": [
    "def main():\n",
    "    host = \"bank.cw2w4gcvc1md.us-east-1.rds.amazonaws.com\"\n",
    "    user = \"Ankur\"\n",
    "    password = open(\"credentials.txt\").read()\n",
    "    \n",
    "    conn = mysql.connector.connect(host=host, \n",
    "                                    user=user, \n",
    "                                    password = password,\n",
    "                                    database='cse4020_db')\n",
    "    cursor=conn.cursor()\n",
    "    \n",
    "    \n",
    "    sql_query=\"\"\"\n",
    "    Select * FROM loan\n",
    "    \"\"\"\n",
    "    \n",
    "    cursor.execute(sql_query)\n",
    "    store=cursor.fetchall()\n",
    "    \n",
    "    for rows in store:\n",
    "        print(rows)\n",
    "    sql_query2=\"\"\"update account set account.balance=0\n",
    "        where account.account_number='A-402'\"\"\"\n",
    "    cursor.execute(sql_query2)\n",
    "    \n",
    "    print(\"\\n\\nChanged loan table \\n\\n\")\n",
    "    sql_query3=\"\"\"\n",
    "    Select * FROM loan\n",
    "    \"\"\"\n",
    "    cursor.execute(sql_query3)\n",
    "    store2=cursor.fetchall()\n",
    "    \n",
    "    for rows in store2:\n",
    "        print(rows)\n",
    "    conn.commit()\n",
    "    conn.close()    \n",
    "    \n",
    "main()\n",
    "    \n",
    "    "
   ]
  },
  {
   "cell_type": "markdown",
   "id": "aab4b3e6",
   "metadata": {},
   "source": [
    "# Bonus "
   ]
  },
  {
   "cell_type": "code",
   "execution_count": 40,
   "id": "504d182a",
   "metadata": {},
   "outputs": [
    {
     "name": "stdout",
     "output_type": "stream",
     "text": [
      "('$4250.00',)\n"
     ]
    }
   ],
   "source": [
    "def main():\n",
    "    host = \"bank.cw2w4gcvc1md.us-east-1.rds.amazonaws.com\"\n",
    "    user = \"Ankur\"\n",
    "    password = open(\"credentials.txt\").read()\n",
    "    \n",
    "    conn = mysql.connector.connect(host=host, \n",
    "                                    user=user, \n",
    "                                    password = password,\n",
    "                                    database='cse4020_db')\n",
    "    cursor=conn.cursor()\n",
    "    \n",
    "    \n",
    "    sql_query=\"\"\"\n",
    "    USE `cse4020_db`;\n",
    "    DROP procedure IF EXISTS `cse4020_db`.`currency_style`;\n",
    "    CREATE PROCEDURE `currency_style`(IN value int(10),IN points int(10),out final_out varchar(22))\n",
    "    BEGIN\n",
    "    declare consume int(10);\n",
    "    set consume = power(10,points);\n",
    "    set final_out=concat(\"$\",value,'.',SUBSTRING_INDEX( consume, '1',-1));\n",
    "    END\n",
    "    \"\"\"\n",
    "    \n",
    "    cursor.execute(sql_query, multi=True)\n",
    "    \n",
    "    sql_query2=\"\"\"set @final_out = '0';\n",
    "    call cse4020_db.currency_style((select amount from loan where loan_number='L-42'), 2, @final_out);\n",
    "    select @final_out;\n",
    "    \"\"\"\n",
    "    for result in cursor.execute(sql_query2, multi=True):\n",
    "        store=result.fetchall()\n",
    "    \n",
    "    for rows in store:\n",
    "        print(rows)\n",
    "    \n",
    "    conn.close()    \n",
    "    \n",
    "main()"
   ]
  }
 ],
 "metadata": {
  "kernelspec": {
   "display_name": "Python 3",
   "language": "python",
   "name": "python3"
  },
  "language_info": {
   "codemirror_mode": {
    "name": "ipython",
    "version": 3
   },
   "file_extension": ".py",
   "mimetype": "text/x-python",
   "name": "python",
   "nbconvert_exporter": "python",
   "pygments_lexer": "ipython3",
   "version": "3.8.8"
  }
 },
 "nbformat": 4,
 "nbformat_minor": 5
}
